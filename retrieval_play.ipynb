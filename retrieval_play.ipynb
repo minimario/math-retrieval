{
 "cells": [
  {
   "cell_type": "code",
   "execution_count": 1,
   "metadata": {},
   "outputs": [],
   "source": [
    "import json\n",
    "from utils_prompt import prompt_openai_general"
   ]
  },
  {
   "cell_type": "code",
   "execution_count": 13,
   "metadata": {},
   "outputs": [],
   "source": [
    "from problems import *\n",
    "results = []\n",
    "\n",
    "no_r = [prompt_without_retrieval_1, prompt_without_retrieval_2, prompt_without_retrieval_3, prompt_without_retrieval_4]\n",
    "r = [prompt_with_retrieval_1, prompt_with_retrieval_2, prompt_with_retrieval_3, prompt_with_retrieval_4]\n",
    " \n",
    "for prompt in no_r + r:\n",
    "    try:\n",
    "        # cache = json.load(open(\"/Users/gua/Documents/cache.json\", \"r\"))\n",
    "        cache = json.load(open(\"cache.json\", \"r\"))\n",
    "    except:\n",
    "        cache = {}\n",
    "        \n",
    "    cache_key, result = prompt_openai_general(\n",
    "        full_prompt = prompt,\n",
    "        cache = cache,\n",
    "        temperature = 0.2,\n",
    "        n = 20,\n",
    "        model = \"gpt-4-1106-preview\",\n",
    "        max_tokens = 1000,\n",
    "        stop = None,\n",
    "    )\n",
    "    results.append(result)\n",
    "    cache[cache_key] = result\n",
    "\n",
    "    json.dump(cache, open(\"cache.json\", \"w\"))"
   ]
  },
  {
   "cell_type": "code",
   "execution_count": 4,
   "metadata": {},
   "outputs": [],
   "source": [
    "# for prompt in [prompt_without_retrieval_1, prompt_with_retrieval_1, prompt_without_retrieval_2, prompt_with_retrieval_2, prompt_without_retrieval_3, prompt_with_retrieval_3]:\n",
    "#     print(prompt)\n",
    "    # print(\"-\" * 10)"
   ]
  },
  {
   "cell_type": "code",
   "execution_count": 15,
   "metadata": {},
   "outputs": [
    {
     "name": "stdout",
     "output_type": "stream",
     "text": [
      "1 | 2 | 1 | 6 | 2 | 2 | 4 | 1 | 4 | 1\n",
      "Answer:  60\n",
      "Accuracy:  0.0\n",
      "----------\n",
      "1021260 | 256036 | 256036 | 256036 | 505 | 1024136 | 1,024,144 | 1024104 | 0 | 1022120\n",
      "Answer:  506\n",
      "Accuracy:  0.0\n",
      "----------\n",
      "5 | 20 | 5 | 5 | 25 | 408 | 5 | 5 | 5 | 5\n",
      "Answer:  5\n",
      "Accuracy:  0.7\n",
      "----------\n",
      "5 | 5 | 15 | 30 | 5 | 30 | 5 | 8 | 8 | 30\n",
      "Answer:  6\n",
      "Accuracy:  0.0\n",
      "----------\n",
      "12 | 6 | 12 | 12 | 48 | 6 | 6 | 12 | 6 | 1\n",
      "Answer:  60\n",
      "Accuracy:  0.0\n",
      "----------\n",
      "2024 | 1024144 | 256036 | 1024144 | 2024 | 255025 | 506 | 506 | 506 | 1024144\n",
      "Answer:  506\n",
      "Accuracy:  0.3\n",
      "----------\n",
      "15 | 5 | 9 | 7 | 20 | 10 | 15 | 25 | 5 | 9\n",
      "Answer:  5\n",
      "Accuracy:  0.2\n",
      "----------\n",
      "9 | 9 | 45 | 6 | 45 | 45 | 23 | 9 | 5 | 6\n",
      "Answer:  6\n",
      "Accuracy:  0.2\n",
      "----------\n"
     ]
    }
   ],
   "source": [
    "def extract_answer(answer):\n",
    "    return answer.split(\"\\\\boxed{\")[1].split(\"}\")[0]\n",
    "\n",
    "answers = [60, 506, 5, 6] * 2\n",
    "for r, a in zip(results, answers):\n",
    "    ct, tot = 0, 0\n",
    "    answers = []\n",
    "    for i in r:\n",
    "        try: answer = extract_answer(i)\n",
    "        except: answer = \"failed\"\n",
    "        answers.append(answer)\n",
    "    print(\" | \".join(answers))\n",
    "    print(\"Answer: \", a)\n",
    "    print(\"Accuracy: \", answers.count(str(a)) / len(answers))\n",
    "    print(\"-\"*10)"
   ]
  },
  {
   "cell_type": "code",
   "execution_count": null,
   "metadata": {},
   "outputs": [],
   "source": []
  }
 ],
 "metadata": {
  "kernelspec": {
   "display_name": "execution",
   "language": "python",
   "name": "python3"
  },
  "language_info": {
   "codemirror_mode": {
    "name": "ipython",
    "version": 3
   },
   "file_extension": ".py",
   "mimetype": "text/x-python",
   "name": "python",
   "nbconvert_exporter": "python",
   "pygments_lexer": "ipython3",
   "version": "3.10.13"
  },
  "orig_nbformat": 4
 },
 "nbformat": 4,
 "nbformat_minor": 2
}
